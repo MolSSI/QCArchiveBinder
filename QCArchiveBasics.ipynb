{
 "cells": [
  {
   "cell_type": "markdown",
   "id": "d60cc0ff",
   "metadata": {},
   "source": [
    "# QCArchive Demo"
   ]
  },
  {
   "cell_type": "code",
   "execution_count": 1,
   "id": "17936106",
   "metadata": {},
   "outputs": [],
   "source": [
    "import qcportal as ptl"
   ]
  },
  {
   "cell_type": "code",
   "execution_count": 2,
   "id": "6f8e54fd",
   "metadata": {},
   "outputs": [],
   "source": [
    "client = ptl.PortalClient(\"https://qcademo.molssi.org\")"
   ]
  },
  {
   "cell_type": "code",
   "execution_count": null,
   "id": "d2a92faa",
   "metadata": {},
   "outputs": [],
   "source": []
  }
 ],
 "metadata": {
  "kernelspec": {
   "display_name": "Python 3 (ipykernel)",
   "language": "python",
   "name": "python3"
  },
  "language_info": {
   "codemirror_mode": {
    "name": "ipython",
    "version": 3
   },
   "file_extension": ".py",
   "mimetype": "text/x-python",
   "name": "python",
   "nbconvert_exporter": "python",
   "pygments_lexer": "ipython3",
   "version": "3.9.13"
  }
 },
 "nbformat": 4,
 "nbformat_minor": 5
}
