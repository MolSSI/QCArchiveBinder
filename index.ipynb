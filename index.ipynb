{
 "cells": [
  {
   "cell_type": "markdown",
   "source": [
    "# QCArchive Demonstrations\n",
    "\n",
    "* [Basics of retrieving records](./record_basics.ipynb)\n",
    "* [Submitting basic computations](./submission_basics.ipynb)\n",
    "* [Using datasets and dataset basics](./dataset_basics.ipynb)\n",
    "* [Submitting computations with datasets](./dataset_submission.ipynb)"
   ],
   "metadata": {
    "collapsed": false
   }
  }
 ],
 "metadata": {
  "kernelspec": {
   "display_name": "Python 3",
   "language": "python",
   "name": "python3"
  },
  "language_info": {
   "codemirror_mode": {
    "name": "ipython",
    "version": 2
   },
   "file_extension": ".py",
   "mimetype": "text/x-python",
   "name": "python",
   "nbconvert_exporter": "python",
   "pygments_lexer": "ipython2",
   "version": "2.7.6"
  }
 },
 "nbformat": 4,
 "nbformat_minor": 0
}
