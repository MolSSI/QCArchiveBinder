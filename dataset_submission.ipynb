{
 "cells": [
  {
   "cell_type": "markdown",
   "id": "ec901539",
   "metadata": {},
   "source": [
    "# Dataset Submission\n",
    "\n",
    "In this example, we will be working with a Singlepoint Dataset. However, the concepts will apply to all other datasets"
   ]
  },
  {
   "cell_type": "code",
   "execution_count": null,
   "id": "9e6ffc20",
   "metadata": {},
   "outputs": [],
   "source": [
    "import qcportal as ptl\n",
    "from qcportal.molecules import Molecule\n",
    "from qcportal.singlepoint import QCSpecification"
   ]
  },
  {
   "cell_type": "code",
   "execution_count": null,
   "outputs": [],
   "source": [
    "# Submission requires a username/password\n",
    "client = ptl.PortalClient(\"https://qcademo.molssi.org\", username=\"YOUR_USERNAME\", password=\"YOUR_PASSWORD\")"
   ],
   "metadata": {
    "collapsed": false
   }
  },
  {
   "cell_type": "markdown",
   "id": "bc237c0a",
   "metadata": {},
   "source": [
    "## Creating the dataset, entries, and specifications\n",
    "\n",
    "We will create the singlepoint dataset on the server\n",
    "\n",
    "The first argument is the type of dataset. See\n",
    "[PortalClient.add_dataset](../api/qcportal.rst#qcportal.client.PortalClient.add_dataset) for more options. We are also adding a default tag for all the computations."
   ]
  },
  {
   "cell_type": "code",
   "execution_count": null,
   "id": "3a160294",
   "metadata": {},
   "outputs": [],
   "source": [
    "ds = client.add_dataset(\"singlepoint\",\n",
    "                        name=\"Element Benchmark\",\n",
    "                        description=\"Variety of calculations on single atoms\",\n",
    "                        default_tag=\"sp_el_tag\")"
   ]
  },
  {
   "cell_type": "markdown",
   "id": "497e238a",
   "metadata": {},
   "source": [
    "Now add datasaet entries. For a singlepoint dataset, these correspond to the molecules the singlepoint calculation runs on.\n",
    "\n",
    "This cell creates ten Molecule objects, one for each of the first 10 elements, with the atom at the origin. It then creates entries for the dataset, and adds them to the dataset.\n",
    "\n",
    "Dataset entries can have other fields as well. See, for example, [SinglepointDatasetNewEntry](../api/qcportal.datasets.singlepoint.rst#qcportal.datasets.singlepoint.models.SinglepointDatasetNewEntry)"
   ]
  },
  {
   "cell_type": "code",
   "execution_count": null,
   "id": "7797ecdb",
   "metadata": {},
   "outputs": [],
   "source": [
    "for m in ['h', 'he', 'li', 'be', 'b', 'c', 'n', 'o', 'f', 'ne']:\n",
    "    mol = Molecule(symbols=[m], geometry=[0.0, 0.0, 0.0])\n",
    "    \n",
    "    # Creates an entry from the molecule. The entry contains the molecule and a name,\n",
    "    # but there are additional fields you can have as well\n",
    "    entry_name = m + \"_atom\"\n",
    "    ds.add_entry(name=entry_name, molecule=mol)"
   ]
  },
  {
   "cell_type": "markdown",
   "id": "a85c84b3",
   "metadata": {},
   "source": [
    "We will now create two different specifications, and add them to the dataset. The First will be hf/sto-3g, and the second will be mp2/aug-cc-pvtz.\n",
    "\n",
    "On both, we will increase the maximum number of SCF iterations to 100"
   ]
  },
  {
   "cell_type": "code",
   "execution_count": null,
   "id": "889afa1e",
   "metadata": {},
   "outputs": [],
   "source": [
    "spec_1 = QCSpecification(\n",
    "            program=\"psi4\",\n",
    "            driver=\"energy\",\n",
    "            method=\"hf\",\n",
    "            basis=\"sto-3g\",\n",
    "            keywords={\"maxiter\": 100}\n",
    ")\n",
    "\n",
    "spec_2 = QCSpecification(\n",
    "            program=\"psi4\",\n",
    "            driver=\"properties\",\n",
    "            method=\"mp2\",\n",
    "            basis=\"aug-cc-pvtz\",\n",
    "            keywords={\"maxiter\": 100}\n",
    ")\n",
    "\n",
    "ds.add_specification(name=\"hf/sto-3g\", specification=spec_1)\n",
    "ds.add_specification(name=\"mp2/aug-cc-pvtz\", specification=spec_2)"
   ]
  },
  {
   "cell_type": "markdown",
   "id": "f6b87eaf",
   "metadata": {},
   "source": [
    "## Submitting the computations and checking the status\n",
    "\n",
    "At this point, we have added specifications and entries,\n",
    "but have not submitted any calculations yet. We do that with\n",
    "the `submit()` function\n",
    "\n",
    "By default, this submits all calculations, but we could restrict the entries\n",
    "and specifications that get submitted.\n",
    "\n",
    "The compute tag for all these computations can be specified here, but by default, the `default_tag` we passed to the `add_dataset` function will be used."
   ]
  },
  {
   "cell_type": "code",
   "execution_count": null,
   "id": "b1d94834",
   "metadata": {},
   "outputs": [],
   "source": [
    "ds.submit()"
   ]
  },
  {
   "cell_type": "markdown",
   "id": "53663193",
   "metadata": {},
   "source": [
    "We can check the status of the calculations on the server with the `status()` function. Note that this will always be computed on the server, and will not use any locally-cached records."
   ]
  },
  {
   "cell_type": "code",
   "execution_count": null,
   "id": "d090be95",
   "metadata": {},
   "outputs": [],
   "source": [
    "ds.status()"
   ]
  },
  {
   "cell_type": "markdown",
   "id": "a60b5b29",
   "metadata": {},
   "source": [
    "We can then view/manipulate records as before"
   ]
  },
  {
   "cell_type": "code",
   "execution_count": null,
   "id": "5c26a403",
   "metadata": {},
   "outputs": [],
   "source": [
    "rec = ds.get_record(\"h_atom\", \"hf/sto-3g\")\n",
    "print(rec.id)\n",
    "print(rec.properties[\"return_energy\"])"
   ]
  },
  {
   "cell_type": "code",
   "execution_count": null,
   "id": "8c13b2cc",
   "metadata": {},
   "outputs": [],
   "source": [
    "df = ds.compile_values(lambda r: r.properties[\"return_energy\"])"
   ]
  },
  {
   "cell_type": "code",
   "execution_count": null,
   "id": "1683a51c",
   "metadata": {},
   "outputs": [],
   "source": [
    "print(df)"
   ]
  }
 ],
 "metadata": {
  "kernelspec": {
   "name": "python3",
   "language": "python",
   "display_name": "Python 3 (ipykernel)"
  },
  "language_info": {
   "codemirror_mode": {
    "name": "ipython",
    "version": 3
   },
   "file_extension": ".py",
   "mimetype": "text/x-python",
   "name": "python",
   "nbconvert_exporter": "python",
   "pygments_lexer": "ipython3",
   "version": "3.9.12"
  }
 },
 "nbformat": 4,
 "nbformat_minor": 5
}
