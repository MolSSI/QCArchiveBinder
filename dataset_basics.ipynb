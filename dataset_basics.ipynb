{
 "cells": [
  {
   "cell_type": "markdown",
   "id": "ec901539",
   "metadata": {},
   "source": [
    "# Dataset Basics\n",
    "\n",
    "In this example, we will be working with an Optimization Dataset. However, the concepts will apply to all other datasets"
   ]
  },
  {
   "cell_type": "code",
   "execution_count": null,
   "id": "9e6ffc20",
   "metadata": {},
   "outputs": [],
   "source": [
    "import qcportal as ptl"
   ]
  },
  {
   "cell_type": "code",
   "execution_count": null,
   "id": "d6d4c006",
   "metadata": {},
   "outputs": [],
   "source": [
    "# Guest access\n",
    "client = ptl.PortalClient(\"https://qcademo.molssi.org\")"
   ]
  },
  {
   "cell_type": "markdown",
   "id": "1695829b",
   "metadata": {},
   "source": [
    "## Retrieving a dataset\n",
    "\n",
    "We can list the datasets available with `list_datasets`"
   ]
  },
  {
   "cell_type": "code",
   "execution_count": null,
   "id": "3a160294",
   "metadata": {},
   "outputs": [],
   "source": [
    "print(client.list_datasets())"
   ]
  },
  {
   "cell_type": "markdown",
   "source": [
    "Get the dataset by dataset type & name (see also, `get_dataset_by_id`)"
   ],
   "metadata": {
    "collapsed": false
   }
  },
  {
   "cell_type": "code",
   "execution_count": null,
   "outputs": [],
   "source": [
    "ds = client.get_dataset('optimization', 'Diatomic Molecule Opt')"
   ],
   "metadata": {
    "collapsed": false
   }
  },
  {
   "cell_type": "markdown",
   "id": "53663193",
   "metadata": {},
   "source": [
    "We can check the status of the calculations on the server with the `status()` function. Note that this will always be computed on the server, and will not use any locally-cached records."
   ]
  },
  {
   "cell_type": "code",
   "execution_count": null,
   "id": "d090be95",
   "metadata": {},
   "outputs": [],
   "source": [
    "ds.status()"
   ]
  },
  {
   "cell_type": "markdown",
   "id": "1aad9551",
   "metadata": {},
   "source": [
    "## Specifications and Entries\n",
    "\n",
    "Each dataset is composed of specifications (how computations are run) and entries (typically molecules that you are working with) and specifications.\n",
    "In the case of an OptimizationDataset, each specification is an `OptimizationSpecification`, while each entry\n",
    "contains the initial molecule (in an `OptimizationDatasetEntry`)\n",
    "\n",
    "Specifications can be viewed with the `specifications` property, which returns a dictionary"
   ]
  },
  {
   "cell_type": "code",
   "execution_count": null,
   "id": "c582a2d6",
   "metadata": {},
   "outputs": [],
   "source": [
    "ds.specifications"
   ]
  },
  {
   "cell_type": "markdown",
   "id": "57ba17df",
   "metadata": {},
   "source": [
    "For entries, we can get a list of entry names with `entry_names`"
   ]
  },
  {
   "cell_type": "code",
   "execution_count": null,
   "id": "a2016ce7",
   "metadata": {},
   "outputs": [],
   "source": [
    "ds.entry_names"
   ]
  },
  {
   "cell_type": "markdown",
   "id": "1fd9b7c7",
   "metadata": {},
   "source": [
    "To get the full information about an entry, use [get_entry()](../api/qcportal.datasets.rst#qcportal.datasets.models.BaseDataset.get_entry). This function will fetch from the server as needed."
   ]
  },
  {
   "cell_type": "code",
   "execution_count": null,
   "id": "c6674b70",
   "metadata": {},
   "outputs": [],
   "source": [
    "ds.get_entry('H2')"
   ]
  },
  {
   "cell_type": "markdown",
   "id": "61cb9855",
   "metadata": {},
   "source": [
    "We can iterate over all the entries with\n",
    "[iterate_entries()](../api/qcportal.datasets.rst#qcportal.datasets.models.BaseDataset.iterate_entries).\n",
    "This function returns a python generator and will automatically fetch entry information as needed"
   ]
  },
  {
   "cell_type": "code",
   "execution_count": null,
   "id": "dc20e67f",
   "metadata": {},
   "outputs": [],
   "source": [
    "for entry in ds.iterate_entries():\n",
    "    print(entry.name, entry.initial_molecule.get_hash())"
   ]
  },
  {
   "cell_type": "markdown",
   "id": "0f51db20",
   "metadata": {},
   "source": [
    "## Getting and iterating over records\n",
    "\n",
    "Records are indexed by the entry name and the specification name. Similar to entries, a single `OptimizationRecord` can be obtained with [get_record()](../api/qcportal.datasets.rst#qcportal.datasets.models.BaseDataset.get_record)"
   ]
  },
  {
   "cell_type": "code",
   "execution_count": null,
   "id": "5c26a403",
   "metadata": {},
   "outputs": [],
   "source": [
    "rec = ds.get_record(\"N2\", \"hf/sto-3g\")\n",
    "print(rec.id)\n",
    "print(rec.final_molecule)"
   ]
  },
  {
   "cell_type": "markdown",
   "id": "ce8bd538",
   "metadata": {},
   "source": [
    "When you need information about a bunch of records, we can iterate over all of them with\n",
    "[iterate_records()](../api/qcportal.datasets.rst#qcportal.datasets.models.BaseDataset.iterate_records).\n",
    "\n",
    "This function returns a generator which produces a tuple with 3 values (entry name, specification name, and record).\n",
    "This function will also automatically fetch records information as needed\n",
    "\n",
    "[iterate_records()](../api/qcportal.datasets.rst#qcportal.datasets.models.BaseDataset.iterate_records) has some additional arguments which are useful, such as being able to iterate only over records with a particular status. This is useful in this case because some computations have not finished or are errored."
   ]
  },
  {
   "cell_type": "code",
   "execution_count": null,
   "id": "25573b8f",
   "metadata": {},
   "outputs": [],
   "source": [
    "# Get the final bond length\n",
    "# Molecule.measure() takes a tuple of positions. With only 2 positions, it will compute the distance\n",
    "for entry_name, spec_name, record in ds.iterate_records(status='complete'):\n",
    "    print(entry_name, spec_name, record.final_molecule.measure((0, 1)))"
   ]
  },
  {
   "cell_type": "markdown",
   "id": "a05b281b",
   "metadata": {},
   "source": [
    "## Compiling a pandas dataframe\n",
    "\n",
    "One common task is to create a pandas dataframe with values that you have computed. For this, you can use\n",
    "[compile_values()](../api/qcportal.datasets.rst#qcportal.datasets.models.BaseDataset.compile_values).\n",
    "\n",
    "With that, we can create a pandas dataframe of bond distances for all the entries and all the specifications.\n",
    "\n",
    "The first argument of this function is a callable which is applied to all (completed) records, and is used to extract the values stored in the dataframe. The function then iterates over all records, applies that function,\n",
    "and creates the pandas dataframe for you."
   ]
  },
  {
   "cell_type": "code",
   "execution_count": null,
   "id": "8c13b2cc",
   "metadata": {},
   "outputs": [],
   "source": [
    "df = ds.compile_values(lambda r: r.final_molecule.measure((0, 1)), \"bond distance\")"
   ]
  },
  {
   "cell_type": "code",
   "execution_count": null,
   "id": "1683a51c",
   "metadata": {},
   "outputs": [],
   "source": [
    "print(df)"
   ]
  }
 ],
 "metadata": {
  "kernelspec": {
   "name": "python3",
   "language": "python",
   "display_name": "Python 3 (ipykernel)"
  },
  "language_info": {
   "codemirror_mode": {
    "name": "ipython",
    "version": 3
   },
   "file_extension": ".py",
   "mimetype": "text/x-python",
   "name": "python",
   "nbconvert_exporter": "python",
   "pygments_lexer": "ipython3",
   "version": "3.9.12"
  }
 },
 "nbformat": 4,
 "nbformat_minor": 5
}
