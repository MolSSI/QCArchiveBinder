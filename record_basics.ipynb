{
 "cells": [
  {
   "cell_type": "markdown",
   "id": "d60cc0ff",
   "metadata": {},
   "source": [
    "# QCArchive - Basics\n",
    "\n",
    "This notebook shows the basics of connecting to a server and retrieving a record by its ID"
   ]
  },
  {
   "cell_type": "code",
   "execution_count": null,
   "id": "17936106",
   "metadata": {},
   "outputs": [],
   "source": [
    "import qcportal as ptl"
   ]
  },
  {
   "cell_type": "markdown",
   "source": [
    "## Create a client object and connect to the demo server\n",
    "\n",
    "The `PortalClient` is how you interact with the server, including querying records and submitting computations.\n",
    "\n",
    "The demo server allows for unauthenticated guest access, so no username/password is necessary to read from the server. However, you will\n",
    "need to log in to submit or modify computations"
   ],
   "metadata": {
    "collapsed": false
   }
  },
  {
   "cell_type": "code",
   "execution_count": null,
   "outputs": [],
   "source": [
    "# Guest access\n",
    "client = ptl.PortalClient(\"https://qcademo.molssi.org\")\n",
    "\n",
    "# If you have a username/password\n",
    "#client = ptl.PortalClient(\"https://qcademo.molssi.org\", username=\"YOUR_USERNAME\", password=\"YOUR_PASSWORD\")"
   ],
   "metadata": {
    "collapsed": false
   }
  },
  {
   "cell_type": "markdown",
   "source": [
    "## Retrieving records\n",
    "\n",
    "There are two main ways of retrieving records. The first, we can use `get_*` functions with a known record id (or list of record ids). Each record type has its own `get_` function (for example, `get_singlepoints`)\n",
    "but there is also a general purpose `get_records` function.\n",
    "\n",
    "If a list of IDs is specified, then a list of records is returned. Otherwise, only a single record is returned."
   ],
   "metadata": {
    "collapsed": false
   }
  },
  {
   "cell_type": "code",
   "execution_count": null,
   "outputs": [],
   "source": [
    "record = client.get_records(1)\n",
    "print(record)"
   ],
   "metadata": {
    "collapsed": false
   }
  },
  {
   "cell_type": "markdown",
   "source": [
    "## Viewing records\n",
    "\n",
    "Record objects have lots of features, and what they have depends on the type of record - we will only cover a few here."
   ],
   "metadata": {
    "collapsed": false
   }
  },
  {
   "cell_type": "code",
   "execution_count": null,
   "outputs": [],
   "source": [
    "# The molecule that we computed\n",
    "print(record.molecule)"
   ],
   "metadata": {
    "collapsed": false
   }
  },
  {
   "cell_type": "code",
   "execution_count": null,
   "outputs": [],
   "source": [
    "# The specification (method, basis, etc)\n",
    "print(record.specification)"
   ],
   "metadata": {
    "collapsed": false
   }
  },
  {
   "cell_type": "code",
   "execution_count": null,
   "outputs": [],
   "source": [
    "# The raw output of the record\n",
    "print(record.stdout)"
   ],
   "metadata": {
    "collapsed": false
   }
  },
  {
   "cell_type": "code",
   "execution_count": null,
   "outputs": [],
   "source": [
    "# The provenance, including walltime\n",
    "# These are stored in the provenance of the last entry of the computation history\n",
    "print(record.compute_history[-1].provenance)"
   ],
   "metadata": {
    "collapsed": false
   }
  }
 ],
 "metadata": {
  "kernelspec": {
   "display_name": "Python 3 (ipykernel)",
   "language": "python",
   "name": "python3"
  },
  "language_info": {
   "codemirror_mode": {
    "name": "ipython",
    "version": 3
   },
   "file_extension": ".py",
   "mimetype": "text/x-python",
   "name": "python",
   "nbconvert_exporter": "python",
   "pygments_lexer": "ipython3",
   "version": "3.9.13"
  }
 },
 "nbformat": 4,
 "nbformat_minor": 5
}
